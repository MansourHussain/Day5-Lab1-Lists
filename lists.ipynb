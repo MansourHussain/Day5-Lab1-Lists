{
 "cells": [
  {
   "cell_type": "code",
   "execution_count": 23,
   "id": "dbc17013",
   "metadata": {},
   "outputs": [],
   "source": [
    "my_list = [5, 4, 17, 19, 30, 2, 7, 10, 45]"
   ]
  },
  {
   "cell_type": "code",
   "execution_count": 24,
   "id": "020b6481",
   "metadata": {},
   "outputs": [
    {
     "data": {
      "text/plain": [
       "45"
      ]
     },
     "execution_count": 24,
     "metadata": {},
     "output_type": "execute_result"
    }
   ],
   "source": [
    "def max_num(y):\n",
    "    \n",
    "    return max(y)\n",
    "    \n",
    "\n",
    "max_num(my_list)"
   ]
  },
  {
   "cell_type": "code",
   "execution_count": 27,
   "id": "a063ea16",
   "metadata": {},
   "outputs": [],
   "source": [
    "newlist = [x for x in my_list if x % 2 == 0] "
   ]
  },
  {
   "cell_type": "code",
   "execution_count": 28,
   "id": "0098735e",
   "metadata": {},
   "outputs": [
    {
     "data": {
      "text/plain": [
       "[4, 30, 2, 10]"
      ]
     },
     "execution_count": 28,
     "metadata": {},
     "output_type": "execute_result"
    }
   ],
   "source": [
    "newlist"
   ]
  },
  {
   "cell_type": "code",
   "execution_count": 29,
   "id": "15ca30a4",
   "metadata": {},
   "outputs": [],
   "source": [
    "slice_list = my_list[5:]"
   ]
  },
  {
   "cell_type": "code",
   "execution_count": 30,
   "id": "25cc5aea",
   "metadata": {},
   "outputs": [
    {
     "data": {
      "text/plain": [
       "[2, 7, 10, 45]"
      ]
     },
     "execution_count": 30,
     "metadata": {},
     "output_type": "execute_result"
    }
   ],
   "source": [
    "slice_list"
   ]
  },
  {
   "cell_type": "code",
   "execution_count": null,
   "id": "db579d80",
   "metadata": {},
   "outputs": [],
   "source": []
  }
 ],
 "metadata": {
  "kernelspec": {
   "display_name": "Python 3",
   "language": "python",
   "name": "python3"
  },
  "language_info": {
   "codemirror_mode": {
    "name": "ipython",
    "version": 3
   },
   "file_extension": ".py",
   "mimetype": "text/x-python",
   "name": "python",
   "nbconvert_exporter": "python",
   "pygments_lexer": "ipython3",
   "version": "3.9.6"
  }
 },
 "nbformat": 4,
 "nbformat_minor": 5
}
